{
 "cells": [
  {
   "cell_type": "code",
   "execution_count": 1,
   "id": "b8e44bca",
   "metadata": {},
   "outputs": [],
   "source": [
    "from generate_report import * "
   ]
  },
  {
   "cell_type": "code",
   "execution_count": 7,
   "id": "e0b1363a",
   "metadata": {},
   "outputs": [],
   "source": [
    "search = ProductConfig()"
   ]
  },
  {
   "cell_type": "code",
   "execution_count": 15,
   "id": "f5bee0ee",
   "metadata": {},
   "outputs": [],
   "source": [
    "with open(\"config/product_config.json\", \"r\", encoding=\"utf-8\") as f:\n",
    "    data = json.load(f)\n",
    "for key, value in data.items():\n",
    "    if type(value[\"c2c_name\"]) != list:\n",
    "        print(key)"
   ]
  },
  {
   "cell_type": "code",
   "execution_count": null,
   "id": "2f6e5b2d",
   "metadata": {},
   "outputs": [],
   "source": []
  }
 ],
 "metadata": {
  "kernelspec": {
   "display_name": "venv",
   "language": "python",
   "name": "python3"
  },
  "language_info": {
   "codemirror_mode": {
    "name": "ipython",
    "version": 3
   },
   "file_extension": ".py",
   "mimetype": "text/x-python",
   "name": "python",
   "nbconvert_exporter": "python",
   "pygments_lexer": "ipython3",
   "version": "3.9.9"
  }
 },
 "nbformat": 4,
 "nbformat_minor": 5
}
